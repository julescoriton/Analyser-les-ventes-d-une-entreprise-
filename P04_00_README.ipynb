{
 "cells": [
  {
   "cell_type": "markdown",
   "metadata": {},
   "source": [
    "# project-4\n",
    "# Analysez les ventes de votre entreprise"
   ]
  },
  {
   "cell_type": "markdown",
   "metadata": {},
   "source": [
    "\n",
    "\n",
    "### LIBRAIRIES UTILISEES\n",
    "\n",
    "CLASSIQUES : Pandas, numpy, scipy.stats, seaborn, matplotlib.pyplot.\n",
    "\n",
    "CALCULER INDICE GINI : quantecon.\n",
    "\n",
    "ANOVA + CHI-2 : Scikitlearn.\n",
    "\n",
    "\n",
    "### IDE : \n",
    "\n",
    "IPython / Jupyter\n",
    "\n",
    "### CONTENU DES DOSSIERS :\n",
    "\n",
    "dataset_P4 : données brutes + données pré-traitées.\n",
    "P04_04_Graphique : images des graphiques.\n",
    "\n",
    "### CONTENU DES SCRIPTS :\n",
    "\n",
    "P4_01_netoyagedonnée : pré-traitement des données.\n",
    "\n",
    "P4_02_scriptanalyse : analyse des ventes + création graphiques \n",
    "\n",
    "P4_03_corrélation  : corrélations de la mission 3."
   ]
  },
  {
   "cell_type": "code",
   "execution_count": null,
   "metadata": {},
   "outputs": [],
   "source": []
  },
  {
   "cell_type": "code",
   "execution_count": null,
   "metadata": {},
   "outputs": [],
   "source": []
  },
  {
   "cell_type": "code",
   "execution_count": null,
   "metadata": {},
   "outputs": [],
   "source": []
  }
 ],
 "metadata": {
  "kernelspec": {
   "display_name": "Python 3",
   "language": "python",
   "name": "python3"
  },
  "language_info": {
   "codemirror_mode": {
    "name": "ipython",
    "version": 3
   },
   "file_extension": ".py",
   "mimetype": "text/x-python",
   "name": "python",
   "nbconvert_exporter": "python",
   "pygments_lexer": "ipython3",
   "version": "3.8.3"
  }
 },
 "nbformat": 4,
 "nbformat_minor": 4
}
